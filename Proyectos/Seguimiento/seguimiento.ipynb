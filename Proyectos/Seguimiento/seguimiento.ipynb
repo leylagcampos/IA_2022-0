{
 "cells": [
  {
   "cell_type": "markdown",
   "metadata": {},
   "source": [
    "## Importar librerías"
   ]
  },
  {
   "cell_type": "code",
   "execution_count": 1,
   "metadata": {},
   "outputs": [],
   "source": [
    "import numpy as np\n",
    "import imutils\n",
    "import cv2"
   ]
  },
  {
   "cell_type": "markdown",
   "metadata": {},
   "source": [
    "#### Define el limite superior e inferior para que el color sea considerado \"azul\""
   ]
  },
  {
   "cell_type": "code",
   "execution_count": 2,
   "metadata": {},
   "outputs": [],
   "source": [
    "azulMin = np.array([100, 67, 0], dtype = \"uint8\")\n",
    "azulMax = np.array([255, 128, 50], dtype = \"uint8\")"
   ]
  },
  {
   "cell_type": "code",
   "execution_count": 3,
   "metadata": {},
   "outputs": [],
   "source": [
    "captura = cv2.VideoCapture(0)\n",
    "salida = cv2.VideoWriter('video/ObjetosAzules.mp4',\n",
    "                         cv2.VideoWriter_fourcc(*'MP4V'),\n",
    "                         20.0,(640,480))\n",
    "while (captura.isOpened()):\n",
    "    ret, fotograma = captura.read()\n",
    "    if ret == True:\n",
    "        #Determinar los pixeles que caen dentro de los límites y luego difuminar la imagen binaria\n",
    "        azul = cv2.inRange(fotograma, azulMin, azulMax)\n",
    "        azul = cv2.GaussianBlur(azul, (3, 3), 0)\n",
    "        # encontrar los contornos en la imagen\n",
    "        cnts = cv2.findContours(azul.copy(), cv2.RETR_EXTERNAL,cv2.CHAIN_APPROX_SIMPLE)\n",
    "        cnts = imutils.grab_contours(cnts)\n",
    "         \n",
    "        # revisar si se encontro algun contorno \n",
    "        if len(cnts) > 0:\n",
    "            # ordena los contornos y encuentra el más grande;\n",
    "            # asumiremos que este contorno corresponde al areadel objeto azul\n",
    "            cnt = sorted(cnts, key = cv2.contourArea, reverse = True)[0]\n",
    "            # calcular el cuadro delimitador (girado) alrededor del contorno y luego dibujarlo\n",
    "            rect = np.int32(cv2.boxPoints(cv2.minAreaRect(cnt)))\n",
    "            cv2.drawContours(fotograma, [rect], -1, (0, 255, 0), 2)\n",
    "        \n",
    "        cv2.imshow(\"Fotograma\", fotograma)\n",
    "        #cv2.imshow(\"Binaria\", azul)\n",
    "        salida.write(fotograma)\n",
    "        \n",
    "        if cv2.waitKey(1) & 0xFF == ord('s'):\n",
    "            break\n",
    "    else:\n",
    "         break\n",
    "captura.release()\n",
    "salida.release()\n",
    "cv2.destroyAllWindows()\n"
   ]
  },
  {
   "cell_type": "markdown",
   "metadata": {},
   "source": [
    "### Recuperar el video"
   ]
  },
  {
   "cell_type": "code",
   "execution_count": 4,
   "metadata": {},
   "outputs": [],
   "source": [
    "captura = cv2.VideoCapture('video/ObjetosAzules.mp4')\n",
    "while (captura.isOpened()):\n",
    "    ret, imagen = captura.read()\n",
    "    if ret == True:\n",
    "        cv2.imshow('Video',imagen)\n",
    "        if cv2.waitKey(1) == ord('s'):\n",
    "            break\n",
    "    else:\n",
    "        break\n",
    "captura.release()\n",
    "cv2.destroyAllWindows()"
   ]
  }
 ],
 "metadata": {
  "kernelspec": {
   "display_name": "Python 3 (ipykernel)",
   "language": "python",
   "name": "python3"
  },
  "language_info": {
   "codemirror_mode": {
    "name": "ipython",
    "version": 3
   },
   "file_extension": ".py",
   "mimetype": "text/x-python",
   "name": "python",
   "nbconvert_exporter": "python",
   "pygments_lexer": "ipython3",
   "version": "3.9.7"
  }
 },
 "nbformat": 4,
 "nbformat_minor": 2
}
