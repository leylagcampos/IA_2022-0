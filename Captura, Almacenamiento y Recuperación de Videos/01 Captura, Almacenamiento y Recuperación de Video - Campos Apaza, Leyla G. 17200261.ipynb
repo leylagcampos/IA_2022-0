{
 "cells": [
  {
   "cell_type": "markdown",
   "id": "00f72eed",
   "metadata": {
    "id": "00f72eed"
   },
   "source": [
    "# Captura, Almacenamiento y Recuperación de Videos"
   ]
  },
  {
   "cell_type": "code",
   "execution_count": 1,
   "id": "73cf4961",
   "metadata": {
    "id": "73cf4961"
   },
   "outputs": [],
   "source": [
    "import cv2"
   ]
  },
  {
   "cell_type": "markdown",
   "id": "dd371966",
   "metadata": {
    "id": "dd371966"
   },
   "source": [
    "### Captura de vídeo"
   ]
  },
  {
   "cell_type": "code",
   "execution_count": 2,
   "id": "abae4169",
   "metadata": {
    "id": "abae4169"
   },
   "outputs": [],
   "source": [
    "captura = cv2.VideoCapture(0)\n",
    "while (captura.isOpened()):\n",
    "    ret, imagen = captura.read()\n",
    "    if ret == True:\n",
    "        cv2.imshow('Video',imagen)\n",
    "        if cv2.waitKey(1) & 0xFF == ord('s'):\n",
    "            break\n",
    "    else:\n",
    "        break\n",
    "captura.release()\n",
    "cv2.destroyAllWindows()"
   ]
  },
  {
   "cell_type": "markdown",
   "id": "b77dd3b8",
   "metadata": {
    "id": "b77dd3b8"
   },
   "source": [
    "### Grabar Video"
   ]
  },
  {
   "cell_type": "code",
   "execution_count": 3,
   "id": "2326ab8d",
   "metadata": {
    "id": "2326ab8d"
   },
   "outputs": [],
   "source": [
    "captura = cv2.VideoCapture(0)\n",
    "salida = cv2.VideoWriter('LeylaCampos.mp4',\n",
    "                         cv2.VideoWriter_fourcc(*'MP4V'),\n",
    "                         20.0,(640,480))\n",
    "while (captura.isOpened()):\n",
    "    ret, imagen = captura.read()\n",
    "    if ret == True:\n",
    "        cv2.imshow('Video',imagen)\n",
    "        salida.write(imagen)\n",
    "        if cv2.waitKey(1) & 0xFF == ord('s'):\n",
    "            break\n",
    "    else:\n",
    "        break\n",
    "            \n",
    "captura.release()\n",
    "salida.release()\n",
    "cv2.destroyAllWindows()"
   ]
  },
  {
   "cell_type": "markdown",
   "id": "d358ee41",
   "metadata": {
    "id": "d358ee41"
   },
   "source": [
    "### Recuperar el video y mostrarlo"
   ]
  },
  {
   "cell_type": "code",
   "execution_count": 4,
   "id": "de5fa9c9",
   "metadata": {
    "id": "de5fa9c9"
   },
   "outputs": [],
   "source": [
    "captura = cv2.VideoCapture('LeylaCampos.mp4')\n",
    "while (captura.isOpened()):\n",
    "    ret, imagen = captura.read()\n",
    "    if ret == True:\n",
    "        cv2.imshow('Video',imagen)\n",
    "        if cv2.waitKey(1) == ord('s'):\n",
    "            break\n",
    "    else:\n",
    "        break\n",
    "captura.release()\n",
    "cv2.destroyAllWindows()"
   ]
  }
 ],
 "metadata": {
  "accelerator": "GPU",
  "colab": {
   "name": "01 Captura, Almacenamiento y Recuperación de Video.ipynb",
   "provenance": []
  },
  "kernelspec": {
   "display_name": "Python 3 (ipykernel)",
   "language": "python",
   "name": "python3"
  },
  "language_info": {
   "codemirror_mode": {
    "name": "ipython",
    "version": 3
   },
   "file_extension": ".py",
   "mimetype": "text/x-python",
   "name": "python",
   "nbconvert_exporter": "python",
   "pygments_lexer": "ipython3",
   "version": "3.9.7"
  }
 },
 "nbformat": 4,
 "nbformat_minor": 5
}
